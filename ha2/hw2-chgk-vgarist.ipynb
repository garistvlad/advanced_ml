{
 "cells": [
  {
   "cell_type": "markdown",
   "metadata": {},
   "source": [
    "# Home assignment: Что? Где? Когда?"
   ]
  },
  {
   "cell_type": "code",
   "execution_count": 260,
   "metadata": {},
   "outputs": [],
   "source": [
    "from collections import defaultdict\n",
    "from datetime import (\n",
    "    timedelta,\n",
    "    datetime\n",
    ")\n",
    "import pickle\n",
    "import requests\n",
    "\n",
    "import matplotlib.pyplot as plt\n",
    "%matplotlib inline\n",
    "import numpy as np\n",
    "import pandas as pd\n",
    "\n",
    "from sklearn.linear_model import LogisticRegression\n",
    "\n",
    "from scipy import sparse\n",
    "from scipy.special import expit as sigmoid\n",
    "import scipy.stats as sps"
   ]
  },
  {
   "cell_type": "markdown",
   "metadata": {},
   "source": [
    "__Task #1__\n",
    "\n",
    "Прочитайте и проанализируйте данные, выберите турниры, в которых есть данные о составах команд и повопросных результатах (поле mask в results.pkl). Для унификации предлагаю:\n",
    "\n",
    "- взять в тренировочный набор турниры с dateStart из 2019 года;\n",
    "- в тестовый — турниры с dateStart из 2020 года."
   ]
  },
  {
   "cell_type": "code",
   "execution_count": 300,
   "metadata": {},
   "outputs": [],
   "source": [
    "tournaments = pickle.load(open('data/tournaments.pkl', 'rb'))\n",
    "results = pickle.load(open('data/results.pkl', 'rb'))\n",
    "players = pickle.load(open('data/players.pkl', 'rb'))"
   ]
  },
  {
   "cell_type": "code",
   "execution_count": 3,
   "metadata": {},
   "outputs": [],
   "source": [
    "TRAIN_YEAR = 2019\n",
    "TEST_YEAR = 2020"
   ]
  },
  {
   "cell_type": "code",
   "execution_count": 4,
   "metadata": {},
   "outputs": [],
   "source": [
    "df_tournaments = pd.DataFrame.from_dict(tournaments, orient=\"index\")\n",
    "\n",
    "# process dates:\n",
    "for date_col in ['dateStart', 'dateEnd']:\n",
    "    df_tournaments[date_col] = df_tournaments[date_col].apply(\n",
    "        lambda x: datetime.fromisoformat(x).replace(tzinfo=None)\n",
    "    )\n",
    "# delete all but relevant years:\n",
    "df_tournaments = df_tournaments.loc[df_tournaments.dateStart.dt.year.isin([TRAIN_YEAR, TEST_YEAR]), :]"
   ]
  },
  {
   "cell_type": "code",
   "execution_count": 5,
   "metadata": {},
   "outputs": [],
   "source": [
    "# get minimum amount of data for each tournament / team / player\n",
    "tournaments = list()\n",
    "for tournament_id, date_start in df_tournaments[['id', 'dateStart']].values:\n",
    "    \n",
    "    if tournament_id not in results or len(results[tournament_id]) == 0:\n",
    "        continue\n",
    "        \n",
    "    tournament_data = {\n",
    "        \"id\": tournament_id,\n",
    "        \"year\": date_start.year,\n",
    "        \"teams\": list(),\n",
    "    }\n",
    "    \n",
    "    for team in results[tournament_id]:\n",
    "        \n",
    "        team_mask = team.get(\"mask\")\n",
    "        if team_mask is None or len(team_mask.replace(\"0\", \"\").replace(\"1\", \"\")) > 0:\n",
    "            continue\n",
    "\n",
    "        cnt_questions = len(team_mask)\n",
    "        team_id = team['team']['id']\n",
    "        team_members = list()\n",
    "        \n",
    "        for player in team['teamMembers']:\n",
    "            player_id = player['player']['id']\n",
    "            team_members.append(player_id)\n",
    "            \n",
    "        team_data = {\n",
    "            \"id\": team_id,\n",
    "            \"cnt_questions\": cnt_questions,\n",
    "            \"mask\": team_mask,\n",
    "            \"team_members\": team_members\n",
    "        }\n",
    "        \n",
    "        tournament_data[\"teams\"].append(team_data)\n",
    "        \n",
    "    tournaments.append(tournament_data)"
   ]
  },
  {
   "cell_type": "code",
   "execution_count": 6,
   "metadata": {},
   "outputs": [],
   "source": [
    "df_tournaments_processed = pd.DataFrame(tournaments)\n",
    "\n",
    "# only tournaments with at least one team:\n",
    "df_tournaments_processed = df_tournaments_processed.loc[\n",
    "    ~(df_tournaments_processed['teams'].apply(len) == 0), :\n",
    "]\n",
    "\n",
    "# delete tournaments with different number of cnt_questions among teams:\n",
    "df_tournaments_processed['cnt_questions'] = df_tournaments_processed['teams'].apply(\n",
    "    lambda x: set([i.get('cnt_questions') for i in x])\n",
    ")\n",
    "df_tournaments_processed = df_tournaments_processed.loc[\n",
    "    df_tournaments_processed['cnt_questions'].apply(len) == 1, :\n",
    "]\n",
    "df_tournaments_processed['cnt_questions'] = df_tournaments_processed['cnt_questions'].apply(\n",
    "    lambda x: list(x)[0]\n",
    ")\n",
    "df_tournaments_processed['teams'] = df_tournaments_processed['teams'].apply(\n",
    "    lambda x: [i for i in x]\n",
    ")"
   ]
  },
  {
   "cell_type": "code",
   "execution_count": 7,
   "metadata": {},
   "outputs": [
    {
     "data": {
      "image/png": "[encoded data removed]",
      "text/plain": [
       "<Figure size 864x288 with 2 Axes>"
      ]
     },
     "metadata": {
      "needs_background": "light"
     },
     "output_type": "display_data"
    }
   ],
   "source": [
    "fig, ax = plt.subplots(1,2, figsize=(12, 4))\n",
    "df_tournaments_processed \\\n",
    "    .query(f\"year == {TRAIN_YEAR}\").cnt_questions \\\n",
    "    .plot(kind='hist', bins=25, ax=ax[0], title='Train # of questions')\n",
    "\n",
    "df_tournaments_processed \\\n",
    "    .query(f\"year == {TEST_YEAR}\").cnt_questions \\\n",
    "    .plot(kind='hist', bins=25, ax=ax[1], title='Test # of questions')\n",
    "\n",
    "for ax_i in ax:\n",
    "    ax_i.set_xlabel(\"# of questions\")"
   ]
  },
  {
   "cell_type": "code",
   "execution_count": 8,
   "metadata": {},
   "outputs": [],
   "source": [
    "# we could drop tournaments with anomaly number of questions (< 100 would be OK):\n",
    "df_tournaments_processed = df_tournaments_processed.loc[df_tournaments_processed.cnt_questions < 100, :]"
   ]
  },
  {
   "cell_type": "code",
   "execution_count": 9,
   "metadata": {},
   "outputs": [
    {
     "name": "stdout",
     "output_type": "stream",
     "text": [
      "Remaining number of tournaments after preprocessing:\n"
     ]
    },
    {
     "data": {
      "text/plain": [
       "2019    595\n",
       "2020    154\n",
       "Name: year, dtype: int64"
      ]
     },
     "execution_count": 9,
     "metadata": {},
     "output_type": "execute_result"
    }
   ],
   "source": [
    "print(\"Remaining number of tournaments after preprocessing:\")\n",
    "df_tournaments_processed.year.value_counts()"
   ]
  },
  {
   "cell_type": "markdown",
   "metadata": {},
   "source": [
    "__Task #2__\n",
    "\n",
    "Постройте baseline-модель на основе линейной или логистической регрессии, которая будет обучать рейтинг-лист игроков. Замечания и подсказки:\n",
    "- повопросные результаты — это фактически результаты броска монетки, и их предсказание скорее всего имеет отношение к бинарной классификации;\n",
    "- в разных турнирах вопросы совсем разного уровня сложности, поэтому модель должна это учитывать; скорее всего, модель должна будет явно обучать не только силу каждого игрока, но и сложность каждого вопроса;\n",
    "- для baseline-модели можно забыть о командах и считать, что повопросные результаты команды просто относятся к каждому из её игроков.\n"
   ]
  },
  {
   "cell_type": "code",
   "execution_count": 10,
   "metadata": {},
   "outputs": [
    {
     "name": "stdout",
     "output_type": "stream",
     "text": [
      "There are 55,066 unique players in TRAIN dataset.\n"
     ]
    }
   ],
   "source": [
    "unique_player_ids = np.unique(\n",
    "    np.concatenate(\n",
    "        df_tournaments_processed[\n",
    "            df_tournaments_processed.year == TRAIN_YEAR\n",
    "        ].teams.apply(\n",
    "            lambda x: np.concatenate([team['team_members'] for team in x])\n",
    "        ).values\n",
    "    )\n",
    ").astype(np.int)\n",
    "\n",
    "print(f\"There are {len(unique_player_ids):,d} unique players in TRAIN dataset.\")"
   ]
  },
  {
   "cell_type": "code",
   "execution_count": 11,
   "metadata": {},
   "outputs": [],
   "source": [
    "# preprocessing for further encoding: ladel_id to player_id\n",
    "player_label_to_id = dict(enumerate(unique_player_ids))\n",
    "player_id_to_label = {j: i for i, j in player_label_to_id.items()}"
   ]
  },
  {
   "cell_type": "code",
   "execution_count": 282,
   "metadata": {},
   "outputs": [],
   "source": [
    "player_answers = defaultdict(int)\n",
    "player_right_answers = defaultdict(int)\n",
    "player_tours = defaultdict(int)\n",
    "\n",
    "for tournament_id, year, teams, cnt_questions in df_tournaments_processed[\n",
    "    df_tournaments_processed.year == TRAIN_YEAR\n",
    "].values:\n",
    "    \n",
    "    tournament_answers = []\n",
    "    \n",
    "    for team in teams:\n",
    "        \n",
    "        for player_id in team['team_members']:\n",
    "            \n",
    "            player_answers[player_id] += len(team['mask'])\n",
    "            player_right_answers[player_id] = sum(list(map(int, team['mask'])))\n",
    "            player_tours[player_id] += 1"
   ]
  },
  {
   "cell_type": "code",
   "execution_count": 290,
   "metadata": {},
   "outputs": [
    {
     "name": "stdout",
     "output_type": "stream",
     "text": [
      "CPU times: user 43.8 s, sys: 24.4 s, total: 1min 8s\n",
      "Wall time: 1min 17s\n"
     ]
    }
   ],
   "source": [
    "%%time\n",
    "\n",
    "player_idxs = []\n",
    "question_idxs = []\n",
    "team_ids = []\n",
    "tournament_ids = []\n",
    "results = []\n",
    "player_questions_count = []\n",
    "\n",
    "questions_count = 0\n",
    "for tournament_id, year, teams, cnt_questions in df_tournaments_processed[\n",
    "    df_tournaments_processed.year == TRAIN_YEAR\n",
    "].values:\n",
    "    \n",
    "    for team in teams:\n",
    "        team_answers = list(map(int, team['mask']))\n",
    "        \n",
    "        for q_no in range(cnt_questions):\n",
    "            \n",
    "            for player_id in team['team_members']:\n",
    "                \n",
    "                player_idxs.append(player_id_to_label[player_id])\n",
    "                question_idxs.append(len(player_id_to_label) + questions_count + q_no)\n",
    "                team_ids.append(team['id'])\n",
    "                tournament_ids.append(tournament_id)\n",
    "                results.append(team_answers[q_no])\n",
    "                player_questions_count.append(player_answers[player_id])\n",
    "    \n",
    "    questions_count += cnt_questions\n",
    "\n",
    "# PREPARE TRAIN DATA:\n",
    "X_train = sparse.lil_matrix(\n",
    "    (len(player_idxs), len(player_id_to_label) + questions_count),\n",
    "    dtype=int\n",
    ")\n",
    "X_train[range(len(player_idxs)), player_idxs] = 1\n",
    "X_train[range(len(player_idxs)), question_idxs] = 1\n",
    "y_train = np.array(results)"
   ]
  },
  {
   "cell_type": "code",
   "execution_count": 291,
   "metadata": {
    "scrolled": true
   },
   "outputs": [
    {
     "name": "stdout",
     "output_type": "stream",
     "text": [
      "CPU times: user 2min 6s, sys: 483 ms, total: 2min 6s\n",
      "Wall time: 2min 6s\n"
     ]
    },
    {
     "data": {
      "text/plain": [
       "LogisticRegression(C=8.0, n_jobs=-1, solver='sag', tol=0.1)"
      ]
     },
     "execution_count": 291,
     "metadata": {},
     "output_type": "execute_result"
    }
   ],
   "source": [
    "%%time\n",
    "# baseline model:\n",
    "model_lr = LogisticRegression(solver='sag', n_jobs=-1, tol=1e-1, C=8.0)\n",
    "model_lr.fit(X_train, y_train)"
   ]
  },
  {
   "cell_type": "code",
   "execution_count": 305,
   "metadata": {},
   "outputs": [],
   "source": [
    "# Add predicted rating:\n",
    "questions_rating = model_lr.coef_[0][len(player_label_to_id):]\n",
    "players_rating = model_lr.coef_[0][:len(player_label_to_id)]\n",
    "\n",
    "df_rating = pd.DataFrame(players_rating, columns=['score']).assign(\n",
    "    player_label = lambda x: x.index\n",
    ").assign(\n",
    "    player_id = lambda x: x.player_label.map(player_label_to_id)\n",
    ").assign(\n",
    "    player_name = lambda x: x.player_id.apply(\n",
    "        lambda x: players[x]['name'] + \" \" + players[x]['surname']\n",
    "    )\n",
    ")\n",
    "\n",
    "df_rating = df_rating.sort_values(by='score', ascending=False).assign(\n",
    "    predicted_rating = lambda x: range(len(x))\n",
    ").reset_index(drop=True)"
   ]
  },
  {
   "cell_type": "code",
   "execution_count": 322,
   "metadata": {},
   "outputs": [],
   "source": [
    "# actual rating from https://rating.chgk.info/players.php\n",
    "actual_top_150 = pd.read_csv(\"./top_150.csv\")\n",
    "actual_top_150['actual_position'] = actual_top_150.actual_position.apply(lambda x: int(x.split(\",\")[0]))\n",
    "actual_top_150 = actual_top_150.set_index(\"player_id\").actual_position.to_dict()"
   ]
  },
  {
   "cell_type": "code",
   "execution_count": 333,
   "metadata": {},
   "outputs": [
    {
     "data": {
      "text/plain": [
       "True     96\n",
       "False    54\n",
       "Name: actual_top150, dtype: int64"
      ]
     },
     "execution_count": 333,
     "metadata": {},
     "output_type": "execute_result"
    }
   ],
   "source": [
    "# Сколько из текущих ТОП-игроков попали в рейтинг?\n",
    "df_rating['actual_top150'] = df_rating.player_id.map(actual_top_150)\n",
    "df_rating.head(150).actual_top150.isna().value_counts()"
   ]
  },
  {
   "cell_type": "markdown",
   "metadata": {},
   "source": [
    "*Из актуального ТОП-150 игроков 96 оказались в построенном рейтинге, и только 54 в него не попали*\n",
    "\n",
    "Думаю, это неплохой результат!"
   ]
  },
  {
   "cell_type": "code",
   "execution_count": 336,
   "metadata": {},
   "outputs": [
    {
     "data": {
      "text/html": [
       "<div>\n",
       "<style scoped>\n",
       "    .dataframe tbody tr th:only-of-type {\n",
       "        vertical-align: middle;\n",
       "    }\n",
       "\n",
       "    .dataframe tbody tr th {\n",
       "        vertical-align: top;\n",
       "    }\n",
       "\n",
       "    .dataframe thead th {\n",
       "        text-align: right;\n",
       "    }\n",
       "</style>\n",
       "<table border=\"1\" class=\"dataframe\">\n",
       "  <thead>\n",
       "    <tr style=\"text-align: right;\">\n",
       "      <th></th>\n",
       "      <th>score</th>\n",
       "      <th>player_label</th>\n",
       "      <th>player_id</th>\n",
       "      <th>player_name</th>\n",
       "      <th>predicted_rating</th>\n",
       "      <th>actual_top150</th>\n",
       "    </tr>\n",
       "  </thead>\n",
       "  <tbody>\n",
       "    <tr>\n",
       "      <th>0</th>\n",
       "      <td>4.946366</td>\n",
       "      <td>3696</td>\n",
       "      <td>26798</td>\n",
       "      <td>Анна Резникова</td>\n",
       "      <td>0</td>\n",
       "      <td>NaN</td>\n",
       "    </tr>\n",
       "    <tr>\n",
       "      <th>1</th>\n",
       "      <td>4.431584</td>\n",
       "      <td>3767</td>\n",
       "      <td>27403</td>\n",
       "      <td>Максим Руссо</td>\n",
       "      <td>1</td>\n",
       "      <td>5.0</td>\n",
       "    </tr>\n",
       "    <tr>\n",
       "      <th>2</th>\n",
       "      <td>4.269867</td>\n",
       "      <td>585</td>\n",
       "      <td>4270</td>\n",
       "      <td>Александра Брутер</td>\n",
       "      <td>2</td>\n",
       "      <td>6.0</td>\n",
       "    </tr>\n",
       "    <tr>\n",
       "      <th>3</th>\n",
       "      <td>4.225379</td>\n",
       "      <td>3953</td>\n",
       "      <td>28751</td>\n",
       "      <td>Иван Семушин</td>\n",
       "      <td>3</td>\n",
       "      <td>3.0</td>\n",
       "    </tr>\n",
       "    <tr>\n",
       "      <th>4</th>\n",
       "      <td>4.199392</td>\n",
       "      <td>2647</td>\n",
       "      <td>19060</td>\n",
       "      <td>Александр Людикайнен</td>\n",
       "      <td>4</td>\n",
       "      <td>NaN</td>\n",
       "    </tr>\n",
       "    <tr>\n",
       "      <th>5</th>\n",
       "      <td>4.174223</td>\n",
       "      <td>3837</td>\n",
       "      <td>27822</td>\n",
       "      <td>Михаил Савченков</td>\n",
       "      <td>5</td>\n",
       "      <td>3.0</td>\n",
       "    </tr>\n",
       "    <tr>\n",
       "      <th>6</th>\n",
       "      <td>4.101294</td>\n",
       "      <td>4157</td>\n",
       "      <td>30270</td>\n",
       "      <td>Сергей Спешков</td>\n",
       "      <td>6</td>\n",
       "      <td>3.0</td>\n",
       "    </tr>\n",
       "    <tr>\n",
       "      <th>7</th>\n",
       "      <td>4.089315</td>\n",
       "      <td>4137</td>\n",
       "      <td>30152</td>\n",
       "      <td>Артём Сорожкин</td>\n",
       "      <td>7</td>\n",
       "      <td>1.0</td>\n",
       "    </tr>\n",
       "    <tr>\n",
       "      <th>8</th>\n",
       "      <td>4.068605</td>\n",
       "      <td>5426</td>\n",
       "      <td>40411</td>\n",
       "      <td>Дмитрий Кудинов</td>\n",
       "      <td>8</td>\n",
       "      <td>NaN</td>\n",
       "    </tr>\n",
       "    <tr>\n",
       "      <th>9</th>\n",
       "      <td>3.986688</td>\n",
       "      <td>2506</td>\n",
       "      <td>18036</td>\n",
       "      <td>Михаил Левандовский</td>\n",
       "      <td>9</td>\n",
       "      <td>8.0</td>\n",
       "    </tr>\n",
       "  </tbody>\n",
       "</table>\n",
       "</div>"
      ],
      "text/plain": [
       "      score  player_label  player_id           player_name  predicted_rating  \\\n",
       "0  4.946366          3696      26798        Анна Резникова                 0   \n",
       "1  4.431584          3767      27403          Максим Руссо                 1   \n",
       "2  4.269867           585       4270     Александра Брутер                 2   \n",
       "3  4.225379          3953      28751          Иван Семушин                 3   \n",
       "4  4.199392          2647      19060  Александр Людикайнен                 4   \n",
       "5  4.174223          3837      27822      Михаил Савченков                 5   \n",
       "6  4.101294          4157      30270        Сергей Спешков                 6   \n",
       "7  4.089315          4137      30152        Артём Сорожкин                 7   \n",
       "8  4.068605          5426      40411       Дмитрий Кудинов                 8   \n",
       "9  3.986688          2506      18036   Михаил Левандовский                 9   \n",
       "\n",
       "   actual_top150  \n",
       "0            NaN  \n",
       "1            5.0  \n",
       "2            6.0  \n",
       "3            3.0  \n",
       "4            NaN  \n",
       "5            3.0  \n",
       "6            3.0  \n",
       "7            1.0  \n",
       "8            NaN  \n",
       "9            8.0  "
      ]
     },
     "execution_count": 336,
     "metadata": {},
     "output_type": "execute_result"
    }
   ],
   "source": [
    "df_rating.head(10)"
   ]
  },
  {
   "cell_type": "markdown",
   "metadata": {},
   "source": [
    "__Task #3__\n",
    "\n",
    "Качество рейтинг-системы оценивается качеством предсказаний результатов турниров. Но сами повопросные результаты наши модели предсказывать вряд ли смогут, ведь неизвестно, насколько сложными окажутся вопросы в будущих турнирах; да и не нужны эти предсказания сами по себе. Поэтому:\n",
    "- предложите способ предсказать результаты нового турнира с известными составами, но неизвестными вопросами, в виде ранжирования команд;\n",
    "- в качестве метрики качества на тестовом наборе давайте считать ранговые корреляции Спирмена и Кендалла (их можно взять в пакете scipy) между реальным ранжированием в результатах турнира и предсказанным моделью,\n",
    "1 усреднённые по тестовому множеству турниров .\n"
   ]
  },
  {
   "cell_type": "code",
   "execution_count": null,
   "metadata": {},
   "outputs": [],
   "source": []
  },
  {
   "cell_type": "markdown",
   "metadata": {},
   "source": [
    "__Task #4__\n",
    "\n",
    "Теперь главное: ЧГК — это всё-таки командная игра. Поэтому:\n",
    "- предложите способ учитывать то, что на вопрос отвечают сразу несколько игроков; скорее всего, понадобятся скрытые переменные; не стесняйтесь делать упрощающие предположения, но теперь переменные “игрок X ответил на вопрос Y” при условии данных должны стать зависимыми для игроков одной и той же команды;\n",
    "- разработайте EM-схему для обучения этой модели, реализуйте её в коде;\n",
    "- обучите несколько итераций, убедитесь, что целевые метрики со временем растут (скорее всего, ненамного, но расти должны), выберите лучшую модель, используя целевые метрики."
   ]
  },
  {
   "cell_type": "code",
   "execution_count": null,
   "metadata": {},
   "outputs": [],
   "source": []
  },
  {
   "cell_type": "markdown",
   "metadata": {},
   "source": [
    "__Task #5__\n",
    "\n",
    "А что там с вопросами? Постройте “рейтинг-лист” турниров по сложности вопросов. Соответствует ли он интуиции (например, на чемпионате мира в целом должны быть сложные вопросы, а на турнирах для школьников — простые)? Если будет интересно: постройте топ сложных и простых вопросов со ссылками на конкретные записи в базе вопросов ЧГК (это чисто техническое дело, тут никакого ML нету)."
   ]
  },
  {
   "cell_type": "code",
   "execution_count": null,
   "metadata": {},
   "outputs": [],
   "source": []
  }
 ],
 "metadata": {
  "kernelspec": {
   "display_name": "Python 3",
   "language": "python",
   "name": "python3"
  },
  "language_info": {
   "codemirror_mode": {
    "name": "ipython",
    "version": 3
   },
   "file_extension": ".py",
   "mimetype": "text/x-python",
   "name": "python",
   "nbconvert_exporter": "python",
   "pygments_lexer": "ipython3",
   "version": "3.8.3"
  }
 },
 "nbformat": 4,
 "nbformat_minor": 4
}
