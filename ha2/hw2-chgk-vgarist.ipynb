{
 "cells": [
  {
   "cell_type": "markdown",
   "metadata": {},
   "source": [
    "# Home assignment: Что? Где? Когда?"
   ]
  },
  {
   "cell_type": "code",
   "execution_count": 1,
   "metadata": {},
   "outputs": [],
   "source": [
    "from collections import defaultdict\n",
    "from datetime import (\n",
    "    timedelta,\n",
    "    datetime\n",
    ")\n",
    "import pickle\n",
    "\n",
    "import matplotlib.pyplot as plt\n",
    "%matplotlib inline\n",
    "import numpy as np\n",
    "import pandas as pd\n",
    "\n",
    "from sklearn.linear_model import LogisticRegression\n",
    "\n",
    "from scipy import sparse\n",
    "from scipy.special import expit as sigmoid\n",
    "import scipy.stats as sps"
   ]
  },
  {
   "cell_type": "markdown",
   "metadata": {},
   "source": [
    "__Task #1__\n",
    "\n",
    "Прочитайте и проанализируйте данные, выберите турниры, в которых есть данные о составах команд и повопросных результатах (поле mask в results.pkl). Для унификации предлагаю:\n",
    "\n",
    "- взять в тренировочный набор турниры с dateStart из 2019 года;\n",
    "- в тестовый — турниры с dateStart из 2020 года."
   ]
  },
  {
   "cell_type": "code",
   "execution_count": 3,
   "metadata": {},
   "outputs": [],
   "source": [
    "tournaments = pickle.load(open('data/tournaments.pkl', 'rb'))\n",
    "results = pickle.load(open('data/results.pkl', 'rb'))\n",
    "players = pickle.load(open('data/players.pkl', 'rb'))"
   ]
  },
  {
   "cell_type": "code",
   "execution_count": 13,
   "metadata": {},
   "outputs": [],
   "source": [
    "TRAIN_YEAR = 2019\n",
    "TEST_YEAR = 2020"
   ]
  },
  {
   "cell_type": "code",
   "execution_count": 31,
   "metadata": {},
   "outputs": [],
   "source": [
    "df_tournaments = pd.DataFrame.from_dict(tournaments, orient=\"index\")\n",
    "\n",
    "# process dates:\n",
    "for date_col in ['dateStart', 'dateEnd']:\n",
    "    df_tournaments[date_col] = df_tournaments[date_col].apply(\n",
    "        lambda x: datetime.fromisoformat(x).replace(tzinfo=None)\n",
    "    )\n",
    "# delete all but relevant years:\n",
    "df_tournaments = df_tournaments.loc[df_tournaments.dateStart.dt.year.isin([TRAIN_YEAR, TEST_YEAR]), :]"
   ]
  },
  {
   "cell_type": "code",
   "execution_count": 117,
   "metadata": {},
   "outputs": [],
   "source": [
    "# get minimum amount of data for each tournament / team / player\n",
    "tournaments = list()\n",
    "for tournament_id, date_start in df_tournaments[['id', 'dateStart']].values:\n",
    "    \n",
    "    if tournament_id not in results or len(results[tournament_id]) == 0:\n",
    "        continue\n",
    "        \n",
    "    tournament_data = {\n",
    "        \"id\": tournament_id,\n",
    "        \"year\": date_start.year,\n",
    "        \"teams\": list(),\n",
    "    }\n",
    "    \n",
    "    for team in results[tournament_id]:\n",
    "        \n",
    "        team_mask = team.get(\"mask\")\n",
    "        if team_mask is None:\n",
    "            continue\n",
    "        else:\n",
    "            team_mask.replace(\"X\", \"0\").replace(\"?\", \"0\")\n",
    "\n",
    "        cnt_questions = len(team_mask)\n",
    "        team_id = team['team']['id']\n",
    "        team_members = list()\n",
    "        \n",
    "        for player in team['teamMembers']:\n",
    "            player_id = player['player']['id']\n",
    "            team_members.append(player_id)\n",
    "            \n",
    "        team_data = {\n",
    "            \"id\": team_id,\n",
    "            \"cnt_questions\": cnt_questions,\n",
    "            \"mask\": team_mask,\n",
    "            \"team_members\": team_members\n",
    "        }\n",
    "        \n",
    "        tournament_data[\"teams\"].append(team_data)\n",
    "        \n",
    "    tournaments.append(tournament_data)"
   ]
  },
  {
   "cell_type": "code",
   "execution_count": 118,
   "metadata": {},
   "outputs": [],
   "source": [
    "df_tournaments_processed = pd.DataFrame(tournaments)\n",
    "\n",
    "# only tournaments with at least one team:\n",
    "df_tournaments_processed = df_tournaments_processed.loc[\n",
    "    ~(df_tournaments_processed['teams'].apply(len) == 0), :\n",
    "]\n",
    "\n",
    "# delete tournaments with different number of cnt_questions among teams:\n",
    "df_tournaments_processed['cnt_questions'] = df_tournaments_processed['teams'].apply(\n",
    "    lambda x: set([i.get('cnt_questions') for i in x])\n",
    ")\n",
    "df_tournaments_processed = df_tournaments_processed.loc[\n",
    "    df_tournaments_processed['cnt_questions'].apply(len) == 1, :\n",
    "]\n",
    "df_tournaments_processed['cnt_questions'] = df_tournaments_processed['cnt_questions'].apply(\n",
    "    lambda x: list(x)[0]\n",
    ")\n",
    "df_tournaments_processed['teams'] = df_tournaments_processed['teams'].apply(\n",
    "    lambda x: [i for i in x]\n",
    ")"
   ]
  },
  {
   "cell_type": "code",
   "execution_count": 128,
   "metadata": {},
   "outputs": [
    {
     "data": {
      "image/png": "[encoded data removed]",
      "text/plain": [
       "<Figure size 864x288 with 2 Axes>"
      ]
     },
     "metadata": {
      "needs_background": "light"
     },
     "output_type": "display_data"
    }
   ],
   "source": [
    "fig, ax = plt.subplots(1,2, figsize=(12, 4))\n",
    "df_tournaments_processed \\\n",
    "    .query(f\"year == {TRAIN_YEAR}\").cnt_questions \\\n",
    "    .plot(kind='hist', bins=25, ax=ax[0], title='Train # of questions')\n",
    "\n",
    "df_tournaments_processed \\\n",
    "    .query(f\"year == {TEST_YEAR}\").cnt_questions \\\n",
    "    .plot(kind='hist', bins=25, ax=ax[1], title='Test # of questions')\n",
    "\n",
    "for ax_i in ax:\n",
    "    ax_i.set_xlabel(\"# of questions\")"
   ]
  },
  {
   "cell_type": "code",
   "execution_count": 131,
   "metadata": {},
   "outputs": [],
   "source": [
    "# we could drop tournaments with anomaly number of questions (< 100 would be OK):\n",
    "df_tournaments_processed = df_tournaments_processed.loc[df_tournaments_processed.cnt_questions < 100, :]"
   ]
  },
  {
   "cell_type": "code",
   "execution_count": 135,
   "metadata": {},
   "outputs": [
    {
     "name": "stdout",
     "output_type": "stream",
     "text": [
      "Remaining number of tournaments after preprocessing:\n"
     ]
    },
    {
     "data": {
      "text/plain": [
       "2019    652\n",
       "2020    167\n",
       "Name: year, dtype: int64"
      ]
     },
     "execution_count": 135,
     "metadata": {},
     "output_type": "execute_result"
    }
   ],
   "source": [
    "print(\"Remaining number of tournaments after preprocessing:\")\n",
    "df_tournaments_processed.year.value_counts()"
   ]
  },
  {
   "cell_type": "markdown",
   "metadata": {},
   "source": [
    "__Task #2__\n",
    "\n",
    "Постройте baseline-модель на основе линейной или логистической регрессии, которая будет обучать рейтинг-лист игроков. Замечания и подсказки:\n",
    "- повопросные результаты — это фактически результаты броска монетки, и их предсказание скорее всего имеет отношение к бинарной классификации;\n",
    "- в разных турнирах вопросы совсем разного уровня сложности, поэтому модель должна это учитывать; скорее всего, модель должна будет явно обучать не только силу каждого игрока, но и сложность каждого вопроса;\n",
    "- для baseline-модели можно забыть о командах и считать, что повопросные результаты команды просто относятся к каждому из её игроков.\n"
   ]
  },
  {
   "cell_type": "code",
   "execution_count": null,
   "metadata": {},
   "outputs": [],
   "source": []
  },
  {
   "cell_type": "markdown",
   "metadata": {},
   "source": [
    "__Task #3__\n",
    "\n",
    "Качество рейтинг-системы оценивается качеством предсказаний результатов турниров. Но сами повопросные результаты наши модели предсказывать вряд ли смогут, ведь неизвестно, насколько сложными окажутся вопросы в будущих турнирах; да и не нужны эти предсказания сами по себе. Поэтому:\n",
    "- предложите способ предсказать результаты нового турнира с известными составами, но неизвестными вопросами, в виде ранжирования команд;\n",
    "- в качестве метрики качества на тестовом наборе давайте считать ранговые корреляции Спирмена и Кендалла (их можно взять в пакете scipy) между реальным ранжированием в результатах турнира и предсказанным моделью,\n",
    "1 усреднённые по тестовому множеству турниров .\n"
   ]
  },
  {
   "cell_type": "code",
   "execution_count": null,
   "metadata": {},
   "outputs": [],
   "source": []
  },
  {
   "cell_type": "markdown",
   "metadata": {},
   "source": [
    "__Task #4__\n",
    "\n",
    "Теперь главное: ЧГК — это всё-таки командная игра. Поэтому:\n",
    "- предложите способ учитывать то, что на вопрос отвечают сразу несколько игроков; скорее всего, понадобятся скрытые переменные; не стесняйтесь делать упрощающие предположения, но теперь переменные “игрок X ответил на вопрос Y” при условии данных должны стать зависимыми для игроков одной и той же команды;\n",
    "- разработайте EM-схему для обучения этой модели, реализуйте её в коде;\n",
    "- обучите несколько итераций, убедитесь, что целевые метрики со временем растут (скорее всего, ненамного, но расти должны), выберите лучшую модель, используя целевые метрики."
   ]
  },
  {
   "cell_type": "code",
   "execution_count": null,
   "metadata": {},
   "outputs": [],
   "source": []
  },
  {
   "cell_type": "markdown",
   "metadata": {},
   "source": [
    "__Task #5__\n",
    "\n",
    "А что там с вопросами? Постройте “рейтинг-лист” турниров по сложности вопросов. Соответствует ли он интуиции (например, на чемпионате мира в целом должны быть сложные вопросы, а на турнирах для школьников — простые)? Если будет интересно: постройте топ сложных и простых вопросов со ссылками на конкретные записи в базе вопросов ЧГК (это чисто техническое дело, тут никакого ML нету)."
   ]
  },
  {
   "cell_type": "code",
   "execution_count": null,
   "metadata": {},
   "outputs": [],
   "source": []
  }
 ],
 "metadata": {
  "kernelspec": {
   "display_name": "Python 3",
   "language": "python",
   "name": "python3"
  },
  "language_info": {
   "codemirror_mode": {
    "name": "ipython",
    "version": 3
   },
   "file_extension": ".py",
   "mimetype": "text/x-python",
   "name": "python",
   "nbconvert_exporter": "python",
   "pygments_lexer": "ipython3",
   "version": "3.8.3"
  }
 },
 "nbformat": 4,
 "nbformat_minor": 4
}
